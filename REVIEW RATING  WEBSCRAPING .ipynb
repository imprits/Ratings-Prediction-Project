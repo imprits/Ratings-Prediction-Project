{
 "cells": [
  {
   "cell_type": "code",
   "execution_count": 1,
   "id": "e977634b",
   "metadata": {},
   "outputs": [],
   "source": [
    "#Importing required libraries\n",
    "\n",
    "import numpy as np\n",
    "import pandas as pd\n",
    "import warnings\n",
    "warnings.filterwarnings(\"ignore\")\n",
    "\n",
    "import selenium\n",
    "from selenium import webdriver\n",
    "import re\n",
    "from selenium.webdriver.common.by import By\n",
    "from selenium.webdriver.common.keys import Keys\n",
    "\n",
    "import time\n",
    "from bs4 import BeautifulSoup\n",
    "\n",
    "from selenium.common.exceptions import ElementNotInteractableException\n",
    "from selenium.common.exceptions import NoSuchElementException\n",
    "from selenium.common.exceptions import StaleElementReferenceException\n",
    "\n",
    "import requests"
   ]
  },
  {
   "cell_type": "code",
   "execution_count": 2,
   "id": "9271f12a",
   "metadata": {},
   "outputs": [],
   "source": [
    "#Connect to web driver\n",
    "\n",
    "driver = webdriver.Chrome(\"chromedriver.exe\")"
   ]
  },
  {
   "cell_type": "code",
   "execution_count": 3,
   "id": "53584952",
   "metadata": {},
   "outputs": [],
   "source": [
    "# Opening the Amazon.in\n",
    "driver.get('https://www.amazon.in/')\n"
   ]
  },
  {
   "cell_type": "code",
   "execution_count": 4,
   "id": "a6cd6e5d",
   "metadata": {},
   "outputs": [],
   "source": [
    "# Searching laptops in the search bar and clicking the search button\n",
    "search_bar=driver.find_element(By.ID,'twotabsearchtextbox')\n",
    "search_bar.send_keys(\"laptops\")"
   ]
  },
  {
   "cell_type": "code",
   "execution_count": 5,
   "id": "d73b00f7",
   "metadata": {},
   "outputs": [],
   "source": [
    "driver.find_element(By.ID,'nav-search-submit-button').click()"
   ]
  },
  {
   "cell_type": "code",
   "execution_count": 6,
   "id": "02d7d8e6",
   "metadata": {},
   "outputs": [
    {
     "name": "stdout",
     "output_type": "stream",
     "text": [
      "No rating\n",
      "No rating\n",
      "No rating\n"
     ]
    }
   ],
   "source": [
    "# Creating empty lists\n",
    "Product_URL=[]\n",
    "Ratings=[]\n",
    "Review=[]\n",
    "\n",
    "#Getting URLs of the product\n",
    "for i in range(1,4):\n",
    "    URL = driver.find_elements(By.XPATH, '//a[@class=\"a-link-normal s-underline-text s-underline-link-text s-link-style a-text-normal\"]')\n",
    "    for i in URL:\n",
    "        Product_URL.append(i.get_attribute('href'))\n",
    "      \n",
    "    try:\n",
    "        next_btn=driver.find_element(By.XPATH,\"//li[@class='a-last']/a\").click()\n",
    "    except NoSuchElementException:\n",
    "        pass\n",
    "    \n",
    "for i in Product_URL:\n",
    "    driver.get(i)\n",
    "    \n",
    "    # Clicking the rating\n",
    "    try:\n",
    "        driver.find_element(By.XPATH,\"//a[1][@id='acrCustomerReviewLink']\").click()\n",
    "    except NoSuchElementException:\n",
    "        print(\"No rating\")\n",
    "        pass\n",
    "    \n",
    "    #Clicking to see all reviews\n",
    "    try:\n",
    "        driver.find_element(By.XPATH,\"//a[@class='a-link-emphasis a-text-bold']\").click()\n",
    "    except NoSuchElementException:\n",
    "        pass\n",
    "        #Scrapping the details\n",
    "    Start_page=1\n",
    "    End_page=50\n",
    "    for page in range(Start_page,End_page+1):\n",
    "        try:\n",
    "            Reviews=driver.find_elements(By.XPATH,\"//div[@class='a-row a-spacing-small review-data']/span/span\")\n",
    "            for r in Reviews:\n",
    "                Review.append(r.text.replace('\\n',''))\n",
    "        except NoSuchElementException:\n",
    "            Review.append(\"Not Available\")\n",
    "        try:\n",
    "            Rating=driver.find_elements(By.XPATH,\"//div[@class='a-section celwidget']/div[2]/a[1]\")\n",
    "            for i in Rating:\n",
    "                rating=i.get_attribute('title')\n",
    "                Ratings.append(rating[:3])\n",
    "        except NoSuchElementException:\n",
    "            Ratings.append(\"Not available\")      \n",
    "        \n",
    "        #Looping for going to next page automatically\n",
    "        try:\n",
    "            next_page=driver.find_element(By.XPATH,\"//div[@id='cm_cr-pagination_bar']/ul/li[2]/a\")\n",
    "            if next_page.text=='Next Page':\n",
    "                next_page.click()\n",
    "                time.sleep(2)\n",
    "        except NoSuchElementException:\n",
    "            pass"
   ]
  },
  {
   "cell_type": "code",
   "execution_count": 7,
   "id": "a3e537a1",
   "metadata": {},
   "outputs": [
    {
     "name": "stdout",
     "output_type": "stream",
     "text": [
      "33700 34550\n"
     ]
    }
   ],
   "source": [
    "#Checking the length of data extracted\n",
    "print(len(Review),len(Ratings))"
   ]
  },
  {
   "cell_type": "code",
   "execution_count": 8,
   "id": "d306393d",
   "metadata": {},
   "outputs": [],
   "source": [
    "#Saving in dataframe\n",
    "laptops=pd.DataFrame({'Product_Review':Review[:7500],'Ratings':Ratings[:7500]})"
   ]
  },
  {
   "cell_type": "code",
   "execution_count": 9,
   "id": "a795a9eb",
   "metadata": {},
   "outputs": [],
   "source": [
    "# Getting the website to driver\n",
    "driver.get('https://www.amazon.in/')"
   ]
  },
  {
   "cell_type": "code",
   "execution_count": 10,
   "id": "a5fe79c4",
   "metadata": {},
   "outputs": [],
   "source": [
    "# Searching phones in the search bar and clicking the search button\n",
    "search_bar=driver.find_element(By.ID,'twotabsearchtextbox')\n",
    "search_bar.send_keys(\"phones\")\n",
    "driver.find_element(By.ID,'nav-search-submit-button').click()"
   ]
  },
  {
   "cell_type": "code",
   "execution_count": 11,
   "id": "a9e2b46d",
   "metadata": {},
   "outputs": [
    {
     "name": "stdout",
     "output_type": "stream",
     "text": [
      "No rating\n",
      "No rating\n",
      "No rating\n"
     ]
    }
   ],
   "source": [
    "# Creating empty lists\n",
    "Product_URL=[]\n",
    "Ratings=[]\n",
    "Review=[]\n",
    "\n",
    "#Getting URLs of the product\n",
    "for i in range(1,4):\n",
    "    URL = driver.find_elements(By.XPATH, '//a[@class=\"a-link-normal s-underline-text s-underline-link-text s-link-style a-text-normal\"]')\n",
    "    for i in URL:\n",
    "        Product_URL.append(i.get_attribute('href'))\n",
    "      \n",
    "    try:\n",
    "        next_btn=driver.find_element(By.XPATH,\"//li[@class='a-last']/a\").click()\n",
    "    except NoSuchElementException:\n",
    "        pass\n",
    "    \n",
    "for i in Product_URL:\n",
    "    driver.get(i)\n",
    "    \n",
    "    # Clicking the rating\n",
    "    try:\n",
    "        driver.find_element(By.XPATH,\"//a[1][@id='acrCustomerReviewLink']\").click()\n",
    "    except NoSuchElementException:\n",
    "        print(\"No rating\")\n",
    "        pass\n",
    "    \n",
    "    #Clicking to see all reviews\n",
    "    try:\n",
    "        driver.find_element(By.XPATH,\"//a[@class='a-link-emphasis a-text-bold']\").click()\n",
    "    except NoSuchElementException:\n",
    "        pass\n",
    "        #Scrapping the details\n",
    "    Start_page=1\n",
    "    End_page=50\n",
    "    for page in range(Start_page,End_page+1):\n",
    "        try:\n",
    "            Reviews=driver.find_elements(By.XPATH,\"//div[@class='a-row a-spacing-small review-data']/span/span\")\n",
    "            for r in Reviews:\n",
    "                Review.append(r.text.replace('\\n',''))\n",
    "        except NoSuchElementException:\n",
    "            Review.append(\"Not Available\")\n",
    "        try:\n",
    "            Rating=driver.find_elements(By.XPATH,\"//div[@class='a-section celwidget']/div[2]/a[1]\")\n",
    "            for i in Rating:\n",
    "                rating=i.get_attribute('title')\n",
    "                Ratings.append(rating[:3])\n",
    "        except NoSuchElementException:\n",
    "            Ratings.append(\"Not available\")      \n",
    "        \n",
    "        #Looping for going to next page automatically\n",
    "        try:\n",
    "            next_page=driver.find_element(By.XPATH,\"//div[@id='cm_cr-pagination_bar']/ul/li[2]/a\")\n",
    "            if next_page.text=='Next Page':\n",
    "                next_page.click()\n",
    "                time.sleep(2)\n",
    "        except NoSuchElementException:\n",
    "            pass"
   ]
  },
  {
   "cell_type": "code",
   "execution_count": 12,
   "id": "56e619de",
   "metadata": {},
   "outputs": [
    {
     "name": "stdout",
     "output_type": "stream",
     "text": [
      "37500 37500\n"
     ]
    }
   ],
   "source": [
    "# Checking the length of data extracted\n",
    "print(len(Review),len(Ratings))"
   ]
  },
  {
   "cell_type": "code",
   "execution_count": 13,
   "id": "206cab71",
   "metadata": {},
   "outputs": [],
   "source": [
    "#Saving in dataframe\n",
    "phones=pd.DataFrame({'Product_Review':Review[:7500],'Ratings':Ratings[:7500]})"
   ]
  },
  {
   "cell_type": "code",
   "execution_count": 14,
   "id": "84c9b998",
   "metadata": {},
   "outputs": [],
   "source": [
    "# Getting the website to driver\n",
    "driver.get('https://www.amazon.in/')"
   ]
  },
  {
   "cell_type": "code",
   "execution_count": 15,
   "id": "7e1defdf",
   "metadata": {},
   "outputs": [],
   "source": [
    "#Searching smartwatch in the search bar and clicking the search button\n",
    "search_bar=driver.find_element(By.ID,'twotabsearchtextbox')\n",
    "search_bar.send_keys(\"smartwatch\")\n",
    "driver.find_element(By.ID,'nav-search-submit-button').click()"
   ]
  },
  {
   "cell_type": "code",
   "execution_count": 16,
   "id": "24d140fc",
   "metadata": {},
   "outputs": [
    {
     "name": "stdout",
     "output_type": "stream",
     "text": [
      "No rating\n",
      "No rating\n",
      "No rating\n"
     ]
    }
   ],
   "source": [
    "# Creating empty lists\n",
    "Product_URL=[]\n",
    "Ratings=[]\n",
    "Review=[]\n",
    "\n",
    "#Getting URLs of the product\n",
    "for i in range(1,4):\n",
    "    URL = driver.find_elements(By.XPATH, '//a[@class=\"a-link-normal s-underline-text s-underline-link-text s-link-style a-text-normal\"]')\n",
    "    for i in URL:\n",
    "        Product_URL.append(i.get_attribute('href'))\n",
    "      \n",
    "    try:\n",
    "        next_btn=driver.find_element(By.XPATH,\"//li[@class='a-last']/a\").click()\n",
    "    except NoSuchElementException:\n",
    "        pass\n",
    "    \n",
    "for i in Product_URL:\n",
    "    driver.get(i)\n",
    "    \n",
    "    # Clicking the rating\n",
    "    try:\n",
    "        driver.find_element(By.XPATH,\"//a[1][@id='acrCustomerReviewLink']\").click()\n",
    "    except NoSuchElementException:\n",
    "        print(\"No rating\")\n",
    "        pass\n",
    "    \n",
    "    #Clicking to see all reviews\n",
    "    try:\n",
    "        driver.find_element(By.XPATH,\"//a[@class='a-link-emphasis a-text-bold']\").click()\n",
    "    except NoSuchElementException:\n",
    "        pass\n",
    "        #Scrapping the details\n",
    "    Start_page=1\n",
    "    End_page=50\n",
    "    for page in range(Start_page,End_page+1):\n",
    "        try:\n",
    "            Reviews=driver.find_elements(By.XPATH,\"//div[@class='a-row a-spacing-small review-data']/span/span\")\n",
    "            for r in Reviews:\n",
    "                Review.append(r.text.replace('\\n',''))\n",
    "        except NoSuchElementException:\n",
    "            Review.append(\"Not Available\")\n",
    "        try:\n",
    "            Rating=driver.find_elements(By.XPATH,\"//div[@class='a-section celwidget']/div[2]/a[1]\")\n",
    "            for i in Rating:\n",
    "                rating=i.get_attribute('title')\n",
    "                Ratings.append(rating[:3])\n",
    "        except NoSuchElementException:\n",
    "            Ratings.append(\"Not available\")      \n",
    "        \n",
    "        #Looping for going to next page automatically\n",
    "        try:\n",
    "            next_page=driver.find_element(By.XPATH,\"//div[@id='cm_cr-pagination_bar']/ul/li[2]/a\")\n",
    "            if next_page.text=='Next Page':\n",
    "                next_page.click()\n",
    "                time.sleep(2)\n",
    "        except NoSuchElementException:\n",
    "            pass"
   ]
  },
  {
   "cell_type": "code",
   "execution_count": 17,
   "id": "d6e3277a",
   "metadata": {},
   "outputs": [
    {
     "name": "stdout",
     "output_type": "stream",
     "text": [
      "36200 37450\n"
     ]
    }
   ],
   "source": [
    "#Checking the length of data extracted\n",
    "print(len(Review),len(Ratings))"
   ]
  },
  {
   "cell_type": "code",
   "execution_count": 18,
   "id": "59adcd08",
   "metadata": {},
   "outputs": [],
   "source": [
    "#Saving in dataframe\n",
    "smartwatch=pd.DataFrame({'Product_Review':Review[:7500],'Ratings':Ratings[:7500]})"
   ]
  },
  {
   "cell_type": "code",
   "execution_count": 19,
   "id": "bbb31012",
   "metadata": {},
   "outputs": [],
   "source": [
    "#Getting the website to driver\n",
    "driver.get('https://www.amazon.in/')"
   ]
  },
  {
   "cell_type": "code",
   "execution_count": 20,
   "id": "66aadce0",
   "metadata": {},
   "outputs": [],
   "source": [
    "#Searching dslr in the search bar and clicking the search button\n",
    "search_bar=driver.find_element(By.ID,'twotabsearchtextbox')\n",
    "search_bar.send_keys(\"dslr\")\n",
    "driver.find_element(By.ID,'nav-search-submit-button').click()"
   ]
  },
  {
   "cell_type": "code",
   "execution_count": 21,
   "id": "dbfe4faa",
   "metadata": {},
   "outputs": [],
   "source": [
    "# Creating empty lists\n",
    "Product_URL=[]\n",
    "Ratings=[]\n",
    "Review=[]\n",
    "\n",
    "#Getting URLs of the product\n",
    "for i in range(1,4):\n",
    "    URL = driver.find_elements(By.XPATH, '//a[@class=\"a-link-normal s-underline-text s-underline-link-text s-link-style a-text-normal\"]')\n",
    "    for i in URL:\n",
    "        Product_URL.append(i.get_attribute('href'))\n",
    "      \n",
    "    try:\n",
    "        next_btn=driver.find_element(By.XPATH,\"//li[@class='a-last']/a\").click()\n",
    "    except NoSuchElementException:\n",
    "        pass\n",
    "    \n",
    "for i in Product_URL:\n",
    "    driver.get(i)\n",
    "    \n",
    "    # Clicking the rating\n",
    "    try:\n",
    "        driver.find_element(By.XPATH,\"//a[1][@id='acrCustomerReviewLink']\").click()\n",
    "    except NoSuchElementException:\n",
    "        print(\"No rating\")\n",
    "        pass\n",
    "    \n",
    "    #Clicking to see all reviews\n",
    "    try:\n",
    "        driver.find_element(By.XPATH,\"//a[@class='a-link-emphasis a-text-bold']\").click()\n",
    "    except NoSuchElementException:\n",
    "        pass\n",
    "        #Scrapping the details\n",
    "    Start_page=1\n",
    "    End_page=50\n",
    "    for page in range(Start_page,End_page+1):\n",
    "        try:\n",
    "            Reviews=driver.find_elements(By.XPATH,\"//div[@class='a-row a-spacing-small review-data']/span/span\")\n",
    "            for r in Reviews:\n",
    "                Review.append(r.text.replace('\\n',''))\n",
    "        except NoSuchElementException:\n",
    "            Review.append(\"Not Available\")\n",
    "        try:\n",
    "            Rating=driver.find_elements(By.XPATH,\"//div[@class='a-section celwidget']/div[2]/a[1]\")\n",
    "            for i in Rating:\n",
    "                rating=i.get_attribute('title')\n",
    "                Ratings.append(rating[:3])\n",
    "        except NoSuchElementException:\n",
    "            Ratings.append(\"Not available\")      \n",
    "        \n",
    "        #Looping for going to next page automatically\n",
    "        try:\n",
    "            next_page=driver.find_element(By.XPATH,\"//div[@id='cm_cr-pagination_bar']/ul/li[2]/a\")\n",
    "            if next_page.text=='Next Page':\n",
    "                next_page.click()\n",
    "                time.sleep(2)\n",
    "        except NoSuchElementException:\n",
    "            pass"
   ]
  },
  {
   "cell_type": "code",
   "execution_count": 22,
   "id": "f9e3f7f4",
   "metadata": {},
   "outputs": [
    {
     "name": "stdout",
     "output_type": "stream",
     "text": [
      "29700 24150\n"
     ]
    }
   ],
   "source": [
    "#Checking the length of data extracted\n",
    "print(len(Review),len(Ratings))"
   ]
  },
  {
   "cell_type": "code",
   "execution_count": 23,
   "id": "1e506925",
   "metadata": {},
   "outputs": [],
   "source": [
    "#Saving in dataframe\n",
    "camera=pd.DataFrame({'Product_Review':Review[:7500],'Ratings':Ratings[:7500]})"
   ]
  },
  {
   "cell_type": "code",
   "execution_count": 24,
   "id": "15fb6344",
   "metadata": {},
   "outputs": [],
   "source": [
    "# Closing the driver\n",
    "driver.close()"
   ]
  },
  {
   "cell_type": "code",
   "execution_count": 25,
   "id": "ddfb9fe6",
   "metadata": {},
   "outputs": [],
   "source": [
    "# Connect to web driver\n",
    "driver = webdriver.Chrome(\"chromedriver.exe\")"
   ]
  },
  {
   "cell_type": "code",
   "execution_count": 26,
   "id": "371e561a",
   "metadata": {},
   "outputs": [],
   "source": [
    "#Getting the website to driver\n",
    "driver.get('https://www.flipkart.com/apple-iphone-12-purple-128-gb/product-reviews/itmebc78f1cb26d3?pid=MOBG2EPZK5ZD9KYS&lid=LSTMOBG2EPZK5ZD9KYSOG4BIP&marketplace=FLIPKART')\n"
   ]
  },
  {
   "cell_type": "code",
   "execution_count": 27,
   "id": "b9f0d142",
   "metadata": {},
   "outputs": [],
   "source": [
    "#Taking the empty lists\n",
    "Ratings=[]\n",
    "Review=[]\n",
    "\n",
    "#As there are nearly 10 reviews per page, we will check for 1000 pages to scrap the required data\n",
    "#Now we will take a for loop and scrap\n",
    "for i in range(0,1000):\n",
    "    for j in driver.find_elements(By.XPATH, \"//div[@class='_3LWZlK _1BLPMq']\"):\n",
    "        Ratings.append(j.text)\n",
    "    for j in driver.find_elements(By.XPATH, \"//div[@class='t-ZTKy']\"):\n",
    "        Review.append(j.text)\n",
    "        \n",
    "    #Path for next page as it changes for every page. We are appending numbers as pages change  \n",
    "    k=i+1\n",
    "    next_page=\"https://www.flipkart.com/apple-iphone-12-purple-128-gb/product-reviews/itmebc78f1cb26d3?pid=MOBG2EPZK5ZD9KYS&lid=LSTMOBG2EPZK5ZD9KYSOG4BIP&marketplace=FLIPKART&page=\"+str(k)\n",
    "    driver.get(next_page)"
   ]
  },
  {
   "cell_type": "code",
   "execution_count": 28,
   "id": "3e575d4f",
   "metadata": {},
   "outputs": [
    {
     "name": "stdout",
     "output_type": "stream",
     "text": [
      "261 271\n"
     ]
    }
   ],
   "source": [
    "#Checking the length of the data scraped\n",
    "print(len(Ratings),len(Review))"
   ]
  },
  {
   "cell_type": "code",
   "execution_count": 29,
   "id": "f44c5e2a",
   "metadata": {},
   "outputs": [],
   "source": [
    "#Saving in dataframe\n",
    "phones2=pd.DataFrame({'Product_Review':Review[:260],'Ratings':Ratings[:260]})"
   ]
  },
  {
   "cell_type": "code",
   "execution_count": 30,
   "id": "a46e1ae1",
   "metadata": {},
   "outputs": [
    {
     "data": {
      "text/html": [
       "<div>\n",
       "<style scoped>\n",
       "    .dataframe tbody tr th:only-of-type {\n",
       "        vertical-align: middle;\n",
       "    }\n",
       "\n",
       "    .dataframe tbody tr th {\n",
       "        vertical-align: top;\n",
       "    }\n",
       "\n",
       "    .dataframe thead th {\n",
       "        text-align: right;\n",
       "    }\n",
       "</style>\n",
       "<table border=\"1\" class=\"dataframe\">\n",
       "  <thead>\n",
       "    <tr style=\"text-align: right;\">\n",
       "      <th></th>\n",
       "      <th>Product_Review</th>\n",
       "      <th>Ratings</th>\n",
       "    </tr>\n",
       "  </thead>\n",
       "  <tbody>\n",
       "    <tr>\n",
       "      <th>0</th>\n",
       "      <td>Wow superb camera phone\\nVery smooth speed and...</td>\n",
       "      <td>5</td>\n",
       "    </tr>\n",
       "    <tr>\n",
       "      <th>1</th>\n",
       "      <td>The brand is very trustworthy and i got genuin...</td>\n",
       "      <td>5</td>\n",
       "    </tr>\n",
       "    <tr>\n",
       "      <th>2</th>\n",
       "      <td>Awesome phone … value for money.. Happy with b...</td>\n",
       "      <td>5</td>\n",
       "    </tr>\n",
       "    <tr>\n",
       "      <th>3</th>\n",
       "      <td>Guys ,this is just Beast at Every Aspect of Co...</td>\n",
       "      <td>5</td>\n",
       "    </tr>\n",
       "    <tr>\n",
       "      <th>4</th>\n",
       "      <td>Excellent product worth for every penny, writi...</td>\n",
       "      <td>5</td>\n",
       "    </tr>\n",
       "  </tbody>\n",
       "</table>\n",
       "</div>"
      ],
      "text/plain": [
       "                                      Product_Review Ratings\n",
       "0  Wow superb camera phone\\nVery smooth speed and...       5\n",
       "1  The brand is very trustworthy and i got genuin...       5\n",
       "2  Awesome phone … value for money.. Happy with b...       5\n",
       "3  Guys ,this is just Beast at Every Aspect of Co...       5\n",
       "4  Excellent product worth for every penny, writi...       5"
      ]
     },
     "execution_count": 30,
     "metadata": {},
     "output_type": "execute_result"
    }
   ],
   "source": [
    "#Checking first 5 data of the dataframe\n",
    "phones2.head()"
   ]
  },
  {
   "cell_type": "code",
   "execution_count": 31,
   "id": "fbad885d",
   "metadata": {},
   "outputs": [],
   "source": [
    "#Closing the driver\n",
    "driver.close()"
   ]
  },
  {
   "cell_type": "code",
   "execution_count": 32,
   "id": "39ed83e6",
   "metadata": {},
   "outputs": [],
   "source": [
    "# Connect to web driver\n",
    "driver = webdriver.Chrome(\"chromedriver.exe\")"
   ]
  },
  {
   "cell_type": "code",
   "execution_count": 33,
   "id": "7ea9155e",
   "metadata": {},
   "outputs": [],
   "source": [
    "#Getting the website to driver\n",
    "driver.get('https://www.flipkart.com/d-link-dir-615-wireless-n-300-router/product-reviews/itme3xwg9x9jgsyh?pid=RTRE3XW76EHCJUGH&lid=LSTRTRE3XW76EHCJUGHL3JOYL&marketplace=FLIPKART')\n"
   ]
  },
  {
   "cell_type": "code",
   "execution_count": 34,
   "id": "c01c5c2e",
   "metadata": {},
   "outputs": [],
   "source": [
    "#Taking the empty lists\n",
    "Ratings=[]\n",
    "Review=[]\n",
    "\n",
    "#As there are nearly 10 reviews per page, we will check for 1000 pages to scrap the required data\n",
    "#Now we will take a for loop and scrap\n",
    "for i in range(0,1000):\n",
    "    for j in driver.find_elements(By.XPATH, \"//div[@class='_3LWZlK _1BLPMq']\"):\n",
    "        Ratings.append(j.text)\n",
    "    for j in driver.find_elements(By.XPATH, \"//div[@class='t-ZTKy']\"):\n",
    "        Review.append(j.text)\n",
    "        \n",
    "    #Path for next page as it changes for every page. We are appending numbers as pages change  \n",
    "    k=i+1\n",
    "    next_page=\"https://www.flipkart.com/d-link-dir-615-wireless-n-300-router/product-reviews/itme3xwg9x9jgsyh?pid=RTRE3XW76EHCJUGH&lid=LSTRTRE3XW76EHCJUGHL3JOYL&marketplace=FLIPKART&page=\"+str(k)\n",
    "    driver.get(next_page)"
   ]
  },
  {
   "cell_type": "code",
   "execution_count": 35,
   "id": "8bc0a51a",
   "metadata": {},
   "outputs": [
    {
     "name": "stdout",
     "output_type": "stream",
     "text": [
      "178 210\n"
     ]
    }
   ],
   "source": [
    "#Checking the length of the data scraped\n",
    "print(len(Ratings),len(Review))"
   ]
  },
  {
   "cell_type": "code",
   "execution_count": 36,
   "id": "441a877a",
   "metadata": {},
   "outputs": [],
   "source": [
    "#Saving in dataframe\n",
    "routers=pd.DataFrame({'Product_Review':Review[:170],'Ratings':Ratings[:170]})"
   ]
  },
  {
   "cell_type": "code",
   "execution_count": 37,
   "id": "a0fc055f",
   "metadata": {},
   "outputs": [],
   "source": [
    "#Closing the driver\n",
    "driver.close()"
   ]
  },
  {
   "cell_type": "code",
   "execution_count": 38,
   "id": "8929cee0",
   "metadata": {},
   "outputs": [],
   "source": [
    "# Connect to web driver\n",
    "driver = webdriver.Chrome(\"chromedriver.exe\")"
   ]
  },
  {
   "cell_type": "code",
   "execution_count": 39,
   "id": "2f9a9fdd",
   "metadata": {},
   "outputs": [],
   "source": [
    "#Getting the website to driver\n",
    "driver.get('https://www.flipkart.com/canon-pixma-mg2470-all-in-one-inkjet-printer/product-reviews/itmdqatqsyzyzffn?pid=PRNDQAR9KZEKSKRF&lid=LSTPRNDQAR9KZEKSKRFYDQIJE&marketplace=FLIPKART')\n"
   ]
  },
  {
   "cell_type": "code",
   "execution_count": 40,
   "id": "22e33ad9",
   "metadata": {},
   "outputs": [],
   "source": [
    "#Taking the empty lists\n",
    "Ratings=[]\n",
    "Review=[]\n",
    "\n",
    "#As there are nearly 10 reviews per page, we will check for 1000 pages to scrap the required data\n",
    "#Now we will take a for loop and scrap\n",
    "for i in range(0,2000):\n",
    "    for j in driver.find_elements(By.XPATH, \"//div[@class='_3LWZlK _1BLPMq']\"):\n",
    "        Ratings.append(j.text)\n",
    "    for j in driver.find_elements(By.XPATH, \"//div[@class='t-ZTKy']\"):\n",
    "        Review.append(j.text)\n",
    "        \n",
    "    #Path for next page as it changes for every page. We are appending numbers as pages change  \n",
    "    k=i+1\n",
    "    next_page=\"https://www.flipkart.com/canon-pixma-mg2470-all-in-one-inkjet-printer/product-reviews/itmdqatqsyzyzffn?pid=PRNDQAR9KZEKSKRF&lid=LSTPRNDQAR9KZEKSKRFYDQIJE&marketplace=FLIPKART&page=\"+str(k)\n",
    "    driver.get(next_page)"
   ]
  },
  {
   "cell_type": "code",
   "execution_count": 41,
   "id": "277b944f",
   "metadata": {},
   "outputs": [
    {
     "name": "stdout",
     "output_type": "stream",
     "text": [
      "174 200\n"
     ]
    }
   ],
   "source": [
    "#Checking the length of the data scraped\n",
    "print(len(Ratings),len(Review))"
   ]
  },
  {
   "cell_type": "code",
   "execution_count": 42,
   "id": "2d6d0521",
   "metadata": {},
   "outputs": [],
   "source": [
    "#Saving in dataframe\n",
    "printers=pd.DataFrame({'Product_Review':Review[:170],'Ratings':Ratings[:170]})"
   ]
  },
  {
   "cell_type": "code",
   "execution_count": 43,
   "id": "7ed799a4",
   "metadata": {},
   "outputs": [],
   "source": [
    "#Closing the driver\n",
    "driver.close()"
   ]
  },
  {
   "cell_type": "code",
   "execution_count": 44,
   "id": "5ebbfdfe",
   "metadata": {},
   "outputs": [],
   "source": [
    "# Connect to web driver\n",
    "driver = webdriver.Chrome(\"chromedriver.exe\")"
   ]
  },
  {
   "cell_type": "code",
   "execution_count": 45,
   "id": "f272a1dc",
   "metadata": {},
   "outputs": [],
   "source": [
    "#Getting the website to driver\n",
    "driver.get('https://www.flipkart.com/noise-icon-buzz-bt-calling-1-69-display-ai-voice-assistance-built-in-games-smartwatch/product-reviews/itmd8257a482e5d5?pid=SMWGAU62XCAESACH&lid=LSTSMWGAU62XCAESACH1NQTLW&marketplace=FLIPKART')"
   ]
  },
  {
   "cell_type": "code",
   "execution_count": 46,
   "id": "d944305a",
   "metadata": {},
   "outputs": [],
   "source": [
    "#Taking the empty lists\n",
    "Ratings=[]\n",
    "Review=[]\n",
    "\n",
    "#As there are nearly 10 reviews per page, we will check for 1000 pages to scrap the required data\n",
    "#Now we will take a for loop and scrap\n",
    "for i in range(0,1000):\n",
    "    for j in driver.find_elements(By.XPATH, \"//div[@class='_3LWZlK _1BLPMq']\"):\n",
    "        Ratings.append(j.text)\n",
    "    for j in driver.find_elements(By.XPATH, \"//div[@class='t-ZTKy']\"):\n",
    "        Review.append(j.text)\n",
    "        \n",
    "    #Path for next page as it changes for every page. We are appending numbers as pages change  \n",
    "    k=i+1\n",
    "    next_page=\"https://www.flipkart.com/noise-icon-buzz-bt-calling-1-69-display-ai-voice-assistance-built-in-games-smartwatch/product-reviews/itmd8257a482e5d5?pid=SMWGAU62XCAESACH&lid=LSTSMWGAU62XCAESACH1NQTLW&marketplace=FLIPKART&page=\"+str(k)\n",
    "    driver.get(next_page)"
   ]
  },
  {
   "cell_type": "code",
   "execution_count": 47,
   "id": "2bde8752",
   "metadata": {},
   "outputs": [
    {
     "name": "stdout",
     "output_type": "stream",
     "text": [
      "251 326\n"
     ]
    }
   ],
   "source": [
    "#Checking the length of the data scraped\n",
    "print(len(Ratings),len(Review))"
   ]
  },
  {
   "cell_type": "code",
   "execution_count": 48,
   "id": "b0e5b54a",
   "metadata": {},
   "outputs": [],
   "source": [
    "#Saving in dataframe\n",
    "smartwatch2=pd.DataFrame({'Product_Review':Review[:250],'Ratings':Ratings[:250]})"
   ]
  },
  {
   "cell_type": "code",
   "execution_count": 49,
   "id": "bd76d9ca",
   "metadata": {},
   "outputs": [],
   "source": [
    "#Closing the driver\n",
    "driver.close()"
   ]
  },
  {
   "cell_type": "code",
   "execution_count": 50,
   "id": "437f5701",
   "metadata": {},
   "outputs": [],
   "source": [
    "# Connect to web driver\n",
    "driver = webdriver.Chrome(\"chromedriver.exe\")"
   ]
  },
  {
   "cell_type": "code",
   "execution_count": 51,
   "id": "ad32f49a",
   "metadata": {},
   "outputs": [],
   "source": [
    "#Getting the website to driver\n",
    "driver.get('https://www.flipkart.com/tp-link-archer-c20-ac-wifi-750-mbps-wireless-router/product-reviews/itmc7d65de184124?pid=RTRE8GKF2CUJ2GNN&lid=LSTRTRE8GKF2CUJ2GNNA9BJX3&marketplace=FLIPKART')"
   ]
  },
  {
   "cell_type": "code",
   "execution_count": 52,
   "id": "9fdfad9d",
   "metadata": {},
   "outputs": [],
   "source": [
    "#Taking the empty lists\n",
    "Ratings=[]\n",
    "Review=[]\n",
    "\n",
    "#As there are nearly 10 reviews per page, we will check for 1000 pages to scrap the required data\n",
    "#Now we will take a for loop and scrap\n",
    "for i in range(0,1000):\n",
    "    for j in driver.find_elements(By.XPATH, \"//div[@class='_3LWZlK _1BLPMq']\"):\n",
    "        Ratings.append(j.text)\n",
    "    for j in driver.find_elements(By.XPATH, \"//div[@class='t-ZTKy']\"):\n",
    "        Review.append(j.text)\n",
    "        \n",
    "    #Path for next page as it changes for every page. We are appending numbers as pages change  \n",
    "    k=i+1\n",
    "    next_page=\"https://www.flipkart.com/tp-link-archer-c20-ac-wifi-750-mbps-wireless-router/product-reviews/itmc7d65de184124?pid=RTRE8GKF2CUJ2GNN&lid=LSTRTRE8GKF2CUJ2GNNA9BJX3&marketplace=FLIPKART&page=\"+str(k)\n",
    "    driver.get(next_page)"
   ]
  },
  {
   "cell_type": "code",
   "execution_count": 53,
   "id": "8414eb6f",
   "metadata": {},
   "outputs": [
    {
     "name": "stdout",
     "output_type": "stream",
     "text": [
      "246 310\n"
     ]
    }
   ],
   "source": [
    "#Checking the length of the data scraped\n",
    "print(len(Ratings),len(Review))"
   ]
  },
  {
   "cell_type": "code",
   "execution_count": 54,
   "id": "695cd531",
   "metadata": {},
   "outputs": [],
   "source": [
    "#Saving in dataframe\n",
    "routers2=pd.DataFrame({'Product_Review':Review[:245],'Ratings':Ratings[:245]})"
   ]
  },
  {
   "cell_type": "code",
   "execution_count": 55,
   "id": "7b78d8a9",
   "metadata": {},
   "outputs": [],
   "source": [
    "#Closing the driver\n",
    "driver.close()"
   ]
  },
  {
   "cell_type": "code",
   "execution_count": 56,
   "id": "042a2dc2",
   "metadata": {},
   "outputs": [
    {
     "data": {
      "text/html": [
       "<div>\n",
       "<style scoped>\n",
       "    .dataframe tbody tr th:only-of-type {\n",
       "        vertical-align: middle;\n",
       "    }\n",
       "\n",
       "    .dataframe tbody tr th {\n",
       "        vertical-align: top;\n",
       "    }\n",
       "\n",
       "    .dataframe thead th {\n",
       "        text-align: right;\n",
       "    }\n",
       "</style>\n",
       "<table border=\"1\" class=\"dataframe\">\n",
       "  <thead>\n",
       "    <tr style=\"text-align: right;\">\n",
       "      <th></th>\n",
       "      <th>Product_Review</th>\n",
       "      <th>Ratings</th>\n",
       "    </tr>\n",
       "  </thead>\n",
       "  <tbody>\n",
       "    <tr>\n",
       "      <th>0</th>\n",
       "      <td>Overall Laptop is good just got it in hands wi...</td>\n",
       "      <td>4.0</td>\n",
       "    </tr>\n",
       "    <tr>\n",
       "      <th>1</th>\n",
       "      <td>Evening things is fine accept Mac cafe antivir...</td>\n",
       "      <td>4.0</td>\n",
       "    </tr>\n",
       "    <tr>\n",
       "      <th>2</th>\n",
       "      <td>Best product.</td>\n",
       "      <td>4.0</td>\n",
       "    </tr>\n",
       "    <tr>\n",
       "      <th>3</th>\n",
       "      <td>battery life- Not up to notch.No backlit keybo...</td>\n",
       "      <td>3.0</td>\n",
       "    </tr>\n",
       "    <tr>\n",
       "      <th>4</th>\n",
       "      <td>Battery is not upto the mark. Battery reduce v...</td>\n",
       "      <td>3.0</td>\n",
       "    </tr>\n",
       "    <tr>\n",
       "      <th>...</th>\n",
       "      <td>...</td>\n",
       "      <td>...</td>\n",
       "    </tr>\n",
       "    <tr>\n",
       "      <th>31090</th>\n",
       "      <td>This product is very poor l. This is not worki...</td>\n",
       "      <td>3</td>\n",
       "    </tr>\n",
       "    <tr>\n",
       "      <th>31091</th>\n",
       "      <td>gd product</td>\n",
       "      <td>5</td>\n",
       "    </tr>\n",
       "    <tr>\n",
       "      <th>31092</th>\n",
       "      <td>I need to refill the cartridge everyday. Hardl...</td>\n",
       "      <td>4</td>\n",
       "    </tr>\n",
       "    <tr>\n",
       "      <th>31093</th>\n",
       "      <td>amazing and super thank you filpkart</td>\n",
       "      <td>5</td>\n",
       "    </tr>\n",
       "    <tr>\n",
       "      <th>31094</th>\n",
       "      <td>Nice. good quality printer from canon..</td>\n",
       "      <td>5</td>\n",
       "    </tr>\n",
       "  </tbody>\n",
       "</table>\n",
       "<p>31095 rows × 2 columns</p>\n",
       "</div>"
      ],
      "text/plain": [
       "                                          Product_Review Ratings\n",
       "0      Overall Laptop is good just got it in hands wi...     4.0\n",
       "1      Evening things is fine accept Mac cafe antivir...     4.0\n",
       "2                                          Best product.     4.0\n",
       "3      battery life- Not up to notch.No backlit keybo...     3.0\n",
       "4      Battery is not upto the mark. Battery reduce v...     3.0\n",
       "...                                                  ...     ...\n",
       "31090  This product is very poor l. This is not worki...       3\n",
       "31091                                         gd product       5\n",
       "31092  I need to refill the cartridge everyday. Hardl...       4\n",
       "31093               amazing and super thank you filpkart       5\n",
       "31094            Nice. good quality printer from canon..       5\n",
       "\n",
       "[31095 rows x 2 columns]"
      ]
     },
     "execution_count": 56,
     "metadata": {},
     "output_type": "execute_result"
    }
   ],
   "source": [
    "# Combining all dataframes into a single dataframe\n",
    "ratings_df=laptops.append([phones,phones2,smartwatch,smartwatch2,camera,routers,routers2,printers],ignore_index=True)\n",
    "ratings_df"
   ]
  },
  {
   "cell_type": "code",
   "execution_count": 57,
   "id": "91fba6f3",
   "metadata": {},
   "outputs": [],
   "source": [
    "# Saving the data into a csv file\n",
    "ratings_df.to_csv('Rating_Prediction_dataset.csv')"
   ]
  }
 ],
 "metadata": {
  "kernelspec": {
   "display_name": "Python 3 (ipykernel)",
   "language": "python",
   "name": "python3"
  },
  "language_info": {
   "codemirror_mode": {
    "name": "ipython",
    "version": 3
   },
   "file_extension": ".py",
   "mimetype": "text/x-python",
   "name": "python",
   "nbconvert_exporter": "python",
   "pygments_lexer": "ipython3",
   "version": "3.9.12"
  }
 },
 "nbformat": 4,
 "nbformat_minor": 5
}
